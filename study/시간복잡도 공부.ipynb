{
 "cells": [
  {
   "cell_type": "markdown",
   "metadata": {},
   "source": [
    "3. 대문자 O표기법\n",
    "- 빅 오 표기법, BigO 표기법 이라고도 부름\n",
    "- O(입력)\n",
    "    - 입력 N에 따라 결정되는 시간 복잡도 함수\n",
    "    - O(1), O(logn)<O(nlogn)<O(n^2)<O(n!)\n",
    "        - 참고: log n 의 베이스는 2 lo"
   ]
  },
  {
   "cell_type": "code",
   "execution_count": null,
   "metadata": {},
   "outputs": [],
   "source": []
  }
 ],
 "metadata": {
  "kernelspec": {
   "display_name": "Python 3",
   "language": "python",
   "name": "python3"
  },
  "language_info": {
   "codemirror_mode": {
    "name": "ipython",
    "version": 3
   },
   "file_extension": ".py",
   "mimetype": "text/x-python",
   "name": "python",
   "nbconvert_exporter": "python",
   "pygments_lexer": "ipython3",
   "version": "3.8.5"
  }
 },
 "nbformat": 4,
 "nbformat_minor": 4
}

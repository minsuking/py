{
 "cells": [
  {
   "cell_type": "code",
   "execution_count": 1,
   "metadata": {},
   "outputs": [],
   "source": [
    "def bubblesort(data):\n",
    "    for i in range(len(data)-1):\n",
    "        swap=False\n",
    "        for j in range(len(data)-i-1):\n",
    "            if data[j]>data[j+1]:\n",
    "                data[j], data[j + 1] = data[j + 1], data[j]\n",
    "                swap=True\n",
    "            \n",
    "        if swap==False:\n",
    "            break\n",
    "    return data"
   ]
  },
  {
   "cell_type": "code",
   "execution_count": 2,
   "metadata": {},
   "outputs": [
    {
     "name": "stdout",
     "output_type": "stream",
     "text": [
      "[0, 4, 6, 8, 9, 10, 12, 14, 18, 25, 26, 28, 29, 30, 31, 34, 35, 39, 41, 43, 48, 50, 51, 52, 54, 55, 58, 59, 60, 63, 64, 66, 67, 70, 72, 75, 76, 77, 78, 82, 83, 84, 85, 87, 90, 91, 92, 93, 97, 99]\n"
     ]
    }
   ],
   "source": [
    "import random\n",
    "\n",
    "data = random.sample(range(100), 50)\n",
    "print (bubblesort(data))"
   ]
  },
  {
   "cell_type": "code",
   "execution_count": 6,
   "metadata": {},
   "outputs": [],
   "source": [
    "def insertion_sort(data):\n",
    "    for i in range(len(data)-1):\n",
    "        for j in range(i+1,0,-1):\n",
    "            if data[j]<data[j-1]:\n",
    "                data[j], data[j-1] = data[j-1], data[j]\n",
    "            else:\n",
    "                break\n",
    "    return data"
   ]
  },
  {
   "cell_type": "code",
   "execution_count": 7,
   "metadata": {},
   "outputs": [
    {
     "name": "stdout",
     "output_type": "stream",
     "text": [
      "[2, 3, 4, 6, 9, 11, 12, 13, 15, 18, 19, 21, 22, 23, 24, 25, 26, 34, 36, 37, 38, 40, 44, 45, 46, 47, 51, 53, 54, 56, 60, 62, 66, 69, 70, 71, 72, 74, 75, 78, 80, 81, 83, 85, 86, 87, 94, 96, 97, 99]\n"
     ]
    }
   ],
   "source": [
    "import random\n",
    "\n",
    "data_list = random.sample(range(100), 50)\n",
    "print (insertion_sort(data_list))"
   ]
  },
  {
   "cell_type": "code",
   "execution_count": 14,
   "metadata": {},
   "outputs": [],
   "source": [
    "def selection_sort(data):\n",
    "    for i in range(len(data)-1):\n",
    "        idx = i\n",
    "        for j in range(i+1, len(data)-1):\n",
    "            if data[idx] > data[j]:\n",
    "                idx = j\n",
    "        data[idx], data[i] = data[i], data[idx]\n",
    "    return data\n"
   ]
  },
  {
   "cell_type": "code",
   "execution_count": 15,
   "metadata": {},
   "outputs": [
    {
     "name": "stdout",
     "output_type": "stream",
     "text": [
      "[1, 4, 5, 6, 7, 8, 9, 10, 13, 18, 19, 20, 21, 23, 25, 29, 31, 32, 34, 35, 41, 42, 45, 48, 54, 55, 63, 64, 65, 66, 68, 71, 72, 74, 75, 77, 78, 79, 80, 81, 82, 83, 84, 87, 88, 89, 91, 98, 99, 22]\n"
     ]
    }
   ],
   "source": [
    "import random\n",
    "\n",
    "data_list = random.sample(range(100), 50)\n",
    "print (selection_sort(data_list))"
   ]
  },
  {
   "cell_type": "code",
   "execution_count": null,
   "metadata": {},
   "outputs": [],
   "source": []
  }
 ],
 "metadata": {
  "kernelspec": {
   "display_name": "Python 3",
   "language": "python",
   "name": "python3"
  },
  "language_info": {
   "codemirror_mode": {
    "name": "ipython",
    "version": 3
   },
   "file_extension": ".py",
   "mimetype": "text/x-python",
   "name": "python",
   "nbconvert_exporter": "python",
   "pygments_lexer": "ipython3",
   "version": "3.8.5"
  }
 },
 "nbformat": 4,
 "nbformat_minor": 4
}
